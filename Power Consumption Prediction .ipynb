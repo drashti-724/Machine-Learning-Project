{
 "cells": [
  {
   "cell_type": "code",
   "execution_count": 1,
   "id": "cbb0e19f",
   "metadata": {},
   "outputs": [],
   "source": [
    "import numpy as np\n",
    "import pandas as pd\n",
    "import seaborn as sns\n",
    "import matplotlib.pyplot as plt\n",
    "import warnings\n",
    "warnings.filterwarnings('ignore')"
   ]
  },
  {
   "cell_type": "code",
   "execution_count": 2,
   "id": "fad489d6",
   "metadata": {},
   "outputs": [],
   "source": [
    "df= pd.read_csv (\"C:\\\\Users\\\\disha\\\\Downloads\\\\Data.csv\")"
   ]
  },
  {
   "cell_type": "code",
   "execution_count": 3,
   "id": "4412cebf",
   "metadata": {},
   "outputs": [
    {
     "data": {
      "text/html": [
       "<div>\n",
       "<style scoped>\n",
       "    .dataframe tbody tr th:only-of-type {\n",
       "        vertical-align: middle;\n",
       "    }\n",
       "\n",
       "    .dataframe tbody tr th {\n",
       "        vertical-align: top;\n",
       "    }\n",
       "\n",
       "    .dataframe thead th {\n",
       "        text-align: right;\n",
       "    }\n",
       "</style>\n",
       "<table border=\"1\" class=\"dataframe\">\n",
       "  <thead>\n",
       "    <tr style=\"text-align: right;\">\n",
       "      <th></th>\n",
       "      <th>S no</th>\n",
       "      <th>Temperature</th>\n",
       "      <th>Humidity</th>\n",
       "      <th>Wind Speed</th>\n",
       "      <th>general diffuse flows</th>\n",
       "      <th>diffuse flows</th>\n",
       "      <th>Air Quality Index (PM)</th>\n",
       "      <th>Cloudiness</th>\n",
       "      <th>Power Consumption in A Zone</th>\n",
       "    </tr>\n",
       "  </thead>\n",
       "  <tbody>\n",
       "    <tr>\n",
       "      <th>0</th>\n",
       "      <td>1</td>\n",
       "      <td>6.559</td>\n",
       "      <td>73.8</td>\n",
       "      <td>0.083</td>\n",
       "      <td>0.051</td>\n",
       "      <td>0.119</td>\n",
       "      <td>158.0</td>\n",
       "      <td>1</td>\n",
       "      <td>34055.69620</td>\n",
       "    </tr>\n",
       "    <tr>\n",
       "      <th>1</th>\n",
       "      <td>2</td>\n",
       "      <td>6.414</td>\n",
       "      <td>74.5</td>\n",
       "      <td>0.083</td>\n",
       "      <td>0.070</td>\n",
       "      <td>0.085</td>\n",
       "      <td>159.0</td>\n",
       "      <td>1</td>\n",
       "      <td>29814.68354</td>\n",
       "    </tr>\n",
       "    <tr>\n",
       "      <th>2</th>\n",
       "      <td>3</td>\n",
       "      <td>6.313</td>\n",
       "      <td>74.5</td>\n",
       "      <td>0.08</td>\n",
       "      <td>0.062</td>\n",
       "      <td>0.100</td>\n",
       "      <td>151.0</td>\n",
       "      <td>1</td>\n",
       "      <td>29128.10127</td>\n",
       "    </tr>\n",
       "    <tr>\n",
       "      <th>3</th>\n",
       "      <td>4</td>\n",
       "      <td>6.121</td>\n",
       "      <td>75</td>\n",
       "      <td>0.083</td>\n",
       "      <td>0.091</td>\n",
       "      <td>0.096</td>\n",
       "      <td>151.0</td>\n",
       "      <td>1</td>\n",
       "      <td>28228.86076</td>\n",
       "    </tr>\n",
       "    <tr>\n",
       "      <th>4</th>\n",
       "      <td>5</td>\n",
       "      <td>5.921</td>\n",
       "      <td>75.7</td>\n",
       "      <td>0.081</td>\n",
       "      <td>0.048</td>\n",
       "      <td>0.085</td>\n",
       "      <td>154.0</td>\n",
       "      <td>1</td>\n",
       "      <td>27335.69620</td>\n",
       "    </tr>\n",
       "    <tr>\n",
       "      <th>...</th>\n",
       "      <td>...</td>\n",
       "      <td>...</td>\n",
       "      <td>...</td>\n",
       "      <td>...</td>\n",
       "      <td>...</td>\n",
       "      <td>...</td>\n",
       "      <td>...</td>\n",
       "      <td>...</td>\n",
       "      <td>...</td>\n",
       "    </tr>\n",
       "    <tr>\n",
       "      <th>52578</th>\n",
       "      <td>52579</td>\n",
       "      <td>NaN</td>\n",
       "      <td>75.6</td>\n",
       "      <td>0.094</td>\n",
       "      <td>436.200</td>\n",
       "      <td>38.960</td>\n",
       "      <td>157.0</td>\n",
       "      <td>0</td>\n",
       "      <td>34444.55696</td>\n",
       "    </tr>\n",
       "    <tr>\n",
       "      <th>52579</th>\n",
       "      <td>52580</td>\n",
       "      <td>NaN</td>\n",
       "      <td>73.5</td>\n",
       "      <td>0.089</td>\n",
       "      <td>451.600</td>\n",
       "      <td>37.730</td>\n",
       "      <td>157.0</td>\n",
       "      <td>0</td>\n",
       "      <td>34438.48101</td>\n",
       "    </tr>\n",
       "    <tr>\n",
       "      <th>52580</th>\n",
       "      <td>52581</td>\n",
       "      <td>NaN</td>\n",
       "      <td>70.1</td>\n",
       "      <td>0.085</td>\n",
       "      <td>466.400</td>\n",
       "      <td>37.490</td>\n",
       "      <td>157.0</td>\n",
       "      <td>0</td>\n",
       "      <td>33873.41772</td>\n",
       "    </tr>\n",
       "    <tr>\n",
       "      <th>52581</th>\n",
       "      <td>52582</td>\n",
       "      <td>NaN</td>\n",
       "      <td>67.75</td>\n",
       "      <td>0.086</td>\n",
       "      <td>477.000</td>\n",
       "      <td>37.370</td>\n",
       "      <td>152.0</td>\n",
       "      <td>0</td>\n",
       "      <td>33988.86076</td>\n",
       "    </tr>\n",
       "    <tr>\n",
       "      <th>52582</th>\n",
       "      <td>52583</td>\n",
       "      <td>NaN</td>\n",
       "      <td>66.24</td>\n",
       "      <td>0.088</td>\n",
       "      <td>485.700</td>\n",
       "      <td>36.720</td>\n",
       "      <td>155.0</td>\n",
       "      <td>0</td>\n",
       "      <td>34158.98734</td>\n",
       "    </tr>\n",
       "  </tbody>\n",
       "</table>\n",
       "<p>52583 rows × 9 columns</p>\n",
       "</div>"
      ],
      "text/plain": [
       "        S no Temperature Humidity Wind Speed  general diffuse flows  \\\n",
       "0          1       6.559     73.8      0.083                  0.051   \n",
       "1          2       6.414     74.5      0.083                  0.070   \n",
       "2          3       6.313     74.5       0.08                  0.062   \n",
       "3          4       6.121       75      0.083                  0.091   \n",
       "4          5       5.921     75.7      0.081                  0.048   \n",
       "...      ...         ...      ...        ...                    ...   \n",
       "52578  52579         NaN     75.6      0.094                436.200   \n",
       "52579  52580         NaN     73.5      0.089                451.600   \n",
       "52580  52581         NaN     70.1      0.085                466.400   \n",
       "52581  52582         NaN    67.75      0.086                477.000   \n",
       "52582  52583         NaN    66.24      0.088                485.700   \n",
       "\n",
       "       diffuse flows  Air Quality Index (PM)  Cloudiness  \\\n",
       "0              0.119                   158.0           1   \n",
       "1              0.085                   159.0           1   \n",
       "2              0.100                   151.0           1   \n",
       "3              0.096                   151.0           1   \n",
       "4              0.085                   154.0           1   \n",
       "...              ...                     ...         ...   \n",
       "52578         38.960                   157.0           0   \n",
       "52579         37.730                   157.0           0   \n",
       "52580         37.490                   157.0           0   \n",
       "52581         37.370                   152.0           0   \n",
       "52582         36.720                   155.0           0   \n",
       "\n",
       "        Power Consumption in A Zone  \n",
       "0                       34055.69620  \n",
       "1                       29814.68354  \n",
       "2                       29128.10127  \n",
       "3                       28228.86076  \n",
       "4                       27335.69620  \n",
       "...                             ...  \n",
       "52578                   34444.55696  \n",
       "52579                   34438.48101  \n",
       "52580                   33873.41772  \n",
       "52581                   33988.86076  \n",
       "52582                   34158.98734  \n",
       "\n",
       "[52583 rows x 9 columns]"
      ]
     },
     "execution_count": 3,
     "metadata": {},
     "output_type": "execute_result"
    }
   ],
   "source": [
    "df"
   ]
  },
  {
   "cell_type": "code",
   "execution_count": 4,
   "id": "c54c4662",
   "metadata": {},
   "outputs": [
    {
     "name": "stdout",
     "output_type": "stream",
     "text": [
      "<class 'pandas.core.frame.DataFrame'>\n",
      "RangeIndex: 52583 entries, 0 to 52582\n",
      "Data columns (total 9 columns):\n",
      " #   Column                        Non-Null Count  Dtype  \n",
      "---  ------                        --------------  -----  \n",
      " 0   S no                          52583 non-null  int64  \n",
      " 1   Temperature                   52263 non-null  object \n",
      " 2   Humidity                      52558 non-null  object \n",
      " 3   Wind Speed                    52512 non-null  object \n",
      " 4   general diffuse flows         52275 non-null  float64\n",
      " 5   diffuse flows                 52568 non-null  float64\n",
      " 6   Air Quality Index (PM)        52565 non-null  float64\n",
      " 7   Cloudiness                    52583 non-null  int64  \n",
      " 8    Power Consumption in A Zone  52583 non-null  float64\n",
      "dtypes: float64(4), int64(2), object(3)\n",
      "memory usage: 3.6+ MB\n"
     ]
    }
   ],
   "source": [
    "df.info()"
   ]
  },
  {
   "cell_type": "code",
   "execution_count": 5,
   "id": "c74cfe95",
   "metadata": {},
   "outputs": [
    {
     "name": "stdout",
     "output_type": "stream",
     "text": [
      "<class 'pandas.core.frame.DataFrame'>\n",
      "RangeIndex: 52583 entries, 0 to 52582\n",
      "Data columns (total 9 columns):\n",
      " #   Column                       Non-Null Count  Dtype  \n",
      "---  ------                       --------------  -----  \n",
      " 0   S_no                         52583 non-null  int64  \n",
      " 1   Temperature                  52263 non-null  object \n",
      " 2   Humidity                     52558 non-null  object \n",
      " 3   Wind_Speed                   52512 non-null  object \n",
      " 4   General_Diffuse_Flows        52275 non-null  float64\n",
      " 5   Diffuse_Flows                52568 non-null  float64\n",
      " 6   Air_Quality_Index_(PM)       52565 non-null  float64\n",
      " 7   Cloudiness                   52583 non-null  int64  \n",
      " 8   Power_Consumption_in_A_Zone  52583 non-null  float64\n",
      "dtypes: float64(4), int64(2), object(3)\n",
      "memory usage: 3.6+ MB\n"
     ]
    }
   ],
   "source": [
    "# Cleaning column names\n",
    "df.columns = df.columns.str.strip().str.replace(\" \", \"_\")\n",
    "df.rename(columns={'general_diffuse_flows': 'General_Diffuse_Flows','diffuse_flows': 'Diffuse_Flows' }, inplace=True)\n",
    "df.info()"
   ]
  },
  {
   "cell_type": "code",
   "execution_count": 6,
   "id": "d1f2a7c3",
   "metadata": {},
   "outputs": [],
   "source": [
    "# Converting object columns to numeric (where applicable)\n",
    "numeric_columns = [\"Temperature\", \"Humidity\", \"Wind_Speed\"]\n",
    "for col in numeric_columns:\n",
    "    df[col] = pd.to_numeric(df[col], errors='coerce')"
   ]
  },
  {
   "cell_type": "code",
   "execution_count": 7,
   "id": "070bdee9",
   "metadata": {},
   "outputs": [
    {
     "name": "stdout",
     "output_type": "stream",
     "text": [
      "<class 'pandas.core.frame.DataFrame'>\n",
      "RangeIndex: 52583 entries, 0 to 52582\n",
      "Data columns (total 9 columns):\n",
      " #   Column                       Non-Null Count  Dtype  \n",
      "---  ------                       --------------  -----  \n",
      " 0   S_no                         52583 non-null  int64  \n",
      " 1   Temperature                  52260 non-null  float64\n",
      " 2   Humidity                     52557 non-null  float64\n",
      " 3   Wind_Speed                   52508 non-null  float64\n",
      " 4   General_Diffuse_Flows        52275 non-null  float64\n",
      " 5   Diffuse_Flows                52568 non-null  float64\n",
      " 6   Air_Quality_Index_(PM)       52565 non-null  float64\n",
      " 7   Cloudiness                   52583 non-null  int64  \n",
      " 8   Power_Consumption_in_A_Zone  52583 non-null  float64\n",
      "dtypes: float64(7), int64(2)\n",
      "memory usage: 3.6 MB\n"
     ]
    }
   ],
   "source": [
    "df.info()"
   ]
  },
  {
   "cell_type": "code",
   "execution_count": 8,
   "id": "5947d33e",
   "metadata": {},
   "outputs": [
    {
     "data": {
      "text/plain": [
       "(52583, 9)"
      ]
     },
     "execution_count": 8,
     "metadata": {},
     "output_type": "execute_result"
    }
   ],
   "source": [
    "df.shape"
   ]
  },
  {
   "cell_type": "code",
   "execution_count": 9,
   "id": "d7b7580b",
   "metadata": {},
   "outputs": [
    {
     "data": {
      "text/html": [
       "<div>\n",
       "<style scoped>\n",
       "    .dataframe tbody tr th:only-of-type {\n",
       "        vertical-align: middle;\n",
       "    }\n",
       "\n",
       "    .dataframe tbody tr th {\n",
       "        vertical-align: top;\n",
       "    }\n",
       "\n",
       "    .dataframe thead th {\n",
       "        text-align: right;\n",
       "    }\n",
       "</style>\n",
       "<table border=\"1\" class=\"dataframe\">\n",
       "  <thead>\n",
       "    <tr style=\"text-align: right;\">\n",
       "      <th></th>\n",
       "      <th>S_no</th>\n",
       "      <th>Temperature</th>\n",
       "      <th>Humidity</th>\n",
       "      <th>Wind_Speed</th>\n",
       "      <th>General_Diffuse_Flows</th>\n",
       "      <th>Diffuse_Flows</th>\n",
       "      <th>Air_Quality_Index_(PM)</th>\n",
       "      <th>Cloudiness</th>\n",
       "      <th>Power_Consumption_in_A_Zone</th>\n",
       "    </tr>\n",
       "  </thead>\n",
       "  <tbody>\n",
       "    <tr>\n",
       "      <th>count</th>\n",
       "      <td>52583.000000</td>\n",
       "      <td>52260.000000</td>\n",
       "      <td>52557.000000</td>\n",
       "      <td>52508.000000</td>\n",
       "      <td>52275.000000</td>\n",
       "      <td>52568.000000</td>\n",
       "      <td>52565.000000</td>\n",
       "      <td>52583.000000</td>\n",
       "      <td>52583.000000</td>\n",
       "    </tr>\n",
       "    <tr>\n",
       "      <th>mean</th>\n",
       "      <td>26292.000000</td>\n",
       "      <td>18.827863</td>\n",
       "      <td>68.285455</td>\n",
       "      <td>1.955462</td>\n",
       "      <td>182.964247</td>\n",
       "      <td>74.872330</td>\n",
       "      <td>154.499191</td>\n",
       "      <td>0.009338</td>\n",
       "      <td>31061.821779</td>\n",
       "    </tr>\n",
       "    <tr>\n",
       "      <th>std</th>\n",
       "      <td>15179.548939</td>\n",
       "      <td>5.813053</td>\n",
       "      <td>15.545151</td>\n",
       "      <td>2.347947</td>\n",
       "      <td>264.571351</td>\n",
       "      <td>124.084858</td>\n",
       "      <td>2.871553</td>\n",
       "      <td>0.096180</td>\n",
       "      <td>8021.057455</td>\n",
       "    </tr>\n",
       "    <tr>\n",
       "      <th>min</th>\n",
       "      <td>1.000000</td>\n",
       "      <td>3.247000</td>\n",
       "      <td>11.340000</td>\n",
       "      <td>0.050000</td>\n",
       "      <td>0.004000</td>\n",
       "      <td>0.011000</td>\n",
       "      <td>150.000000</td>\n",
       "      <td>0.000000</td>\n",
       "      <td>9457.750760</td>\n",
       "    </tr>\n",
       "    <tr>\n",
       "      <th>25%</th>\n",
       "      <td>13146.500000</td>\n",
       "      <td>14.430000</td>\n",
       "      <td>58.330000</td>\n",
       "      <td>0.078000</td>\n",
       "      <td>0.062000</td>\n",
       "      <td>0.122000</td>\n",
       "      <td>152.000000</td>\n",
       "      <td>0.000000</td>\n",
       "      <td>24738.858990</td>\n",
       "    </tr>\n",
       "    <tr>\n",
       "      <th>50%</th>\n",
       "      <td>26292.000000</td>\n",
       "      <td>18.820000</td>\n",
       "      <td>69.880000</td>\n",
       "      <td>0.086000</td>\n",
       "      <td>5.226000</td>\n",
       "      <td>4.412000</td>\n",
       "      <td>155.000000</td>\n",
       "      <td>0.000000</td>\n",
       "      <td>31189.787230</td>\n",
       "    </tr>\n",
       "    <tr>\n",
       "      <th>75%</th>\n",
       "      <td>39437.500000</td>\n",
       "      <td>22.910000</td>\n",
       "      <td>81.400000</td>\n",
       "      <td>4.915000</td>\n",
       "      <td>320.100000</td>\n",
       "      <td>100.500000</td>\n",
       "      <td>157.000000</td>\n",
       "      <td>0.000000</td>\n",
       "      <td>36721.582445</td>\n",
       "    </tr>\n",
       "    <tr>\n",
       "      <th>max</th>\n",
       "      <td>52583.000000</td>\n",
       "      <td>40.010000</td>\n",
       "      <td>94.800000</td>\n",
       "      <td>6.483000</td>\n",
       "      <td>1163.000000</td>\n",
       "      <td>936.000000</td>\n",
       "      <td>159.000000</td>\n",
       "      <td>1.000000</td>\n",
       "      <td>52204.395120</td>\n",
       "    </tr>\n",
       "  </tbody>\n",
       "</table>\n",
       "</div>"
      ],
      "text/plain": [
       "               S_no   Temperature      Humidity    Wind_Speed  \\\n",
       "count  52583.000000  52260.000000  52557.000000  52508.000000   \n",
       "mean   26292.000000     18.827863     68.285455      1.955462   \n",
       "std    15179.548939      5.813053     15.545151      2.347947   \n",
       "min        1.000000      3.247000     11.340000      0.050000   \n",
       "25%    13146.500000     14.430000     58.330000      0.078000   \n",
       "50%    26292.000000     18.820000     69.880000      0.086000   \n",
       "75%    39437.500000     22.910000     81.400000      4.915000   \n",
       "max    52583.000000     40.010000     94.800000      6.483000   \n",
       "\n",
       "       General_Diffuse_Flows  Diffuse_Flows  Air_Quality_Index_(PM)  \\\n",
       "count           52275.000000   52568.000000            52565.000000   \n",
       "mean              182.964247      74.872330              154.499191   \n",
       "std               264.571351     124.084858                2.871553   \n",
       "min                 0.004000       0.011000              150.000000   \n",
       "25%                 0.062000       0.122000              152.000000   \n",
       "50%                 5.226000       4.412000              155.000000   \n",
       "75%               320.100000     100.500000              157.000000   \n",
       "max              1163.000000     936.000000              159.000000   \n",
       "\n",
       "         Cloudiness  Power_Consumption_in_A_Zone  \n",
       "count  52583.000000                 52583.000000  \n",
       "mean       0.009338                 31061.821779  \n",
       "std        0.096180                  8021.057455  \n",
       "min        0.000000                  9457.750760  \n",
       "25%        0.000000                 24738.858990  \n",
       "50%        0.000000                 31189.787230  \n",
       "75%        0.000000                 36721.582445  \n",
       "max        1.000000                 52204.395120  "
      ]
     },
     "execution_count": 9,
     "metadata": {},
     "output_type": "execute_result"
    }
   ],
   "source": [
    "# 5point summary\n",
    "df.describe()"
   ]
  },
  {
   "cell_type": "markdown",
   "id": "97e8cfa7",
   "metadata": {},
   "source": [
    "# Data preparation"
   ]
  },
  {
   "cell_type": "code",
   "execution_count": 10,
   "id": "0269cf19",
   "metadata": {},
   "outputs": [
    {
     "data": {
      "text/plain": [
       "0"
      ]
     },
     "execution_count": 10,
     "metadata": {},
     "output_type": "execute_result"
    }
   ],
   "source": [
    "#checking for duplicate values\n",
    "df.duplicated().sum()"
   ]
  },
  {
   "cell_type": "markdown",
   "id": "98aaa890",
   "metadata": {},
   "source": [
    "# Missing values"
   ]
  },
  {
   "cell_type": "code",
   "execution_count": 11,
   "id": "49319c5e",
   "metadata": {},
   "outputs": [
    {
     "data": {
      "text/plain": [
       "S_no                             0\n",
       "Temperature                    323\n",
       "Humidity                        26\n",
       "Wind_Speed                      75\n",
       "General_Diffuse_Flows          308\n",
       "Diffuse_Flows                   15\n",
       "Air_Quality_Index_(PM)          18\n",
       "Cloudiness                       0\n",
       "Power_Consumption_in_A_Zone      0\n",
       "dtype: int64"
      ]
     },
     "execution_count": 11,
     "metadata": {},
     "output_type": "execute_result"
    }
   ],
   "source": [
    "# Checking missing values\n",
    "df.isnull().sum()"
   ]
  },
  {
   "cell_type": "code",
   "execution_count": 12,
   "id": "44572b65",
   "metadata": {},
   "outputs": [
    {
     "data": {
      "text/plain": [
       "52583"
      ]
     },
     "execution_count": 12,
     "metadata": {},
     "output_type": "execute_result"
    }
   ],
   "source": [
    "len(df)"
   ]
  },
  {
   "cell_type": "markdown",
   "id": "15d1f0e1",
   "metadata": {},
   "source": [
    "# Now, i have to fill null values in the dataset"
   ]
  },
  {
   "cell_type": "code",
   "execution_count": 13,
   "id": "622dbf63",
   "metadata": {},
   "outputs": [],
   "source": [
    "# Filling missing values with mean\n",
    "df.fillna(df.mean(), inplace=True)"
   ]
  },
  {
   "cell_type": "code",
   "execution_count": 14,
   "id": "5fe03fd2",
   "metadata": {},
   "outputs": [
    {
     "data": {
      "text/plain": [
       "S_no                           0\n",
       "Temperature                    0\n",
       "Humidity                       0\n",
       "Wind_Speed                     0\n",
       "General_Diffuse_Flows          0\n",
       "Diffuse_Flows                  0\n",
       "Air_Quality_Index_(PM)         0\n",
       "Cloudiness                     0\n",
       "Power_Consumption_in_A_Zone    0\n",
       "dtype: int64"
      ]
     },
     "execution_count": 14,
     "metadata": {},
     "output_type": "execute_result"
    }
   ],
   "source": [
    "# Verifying missing values are handled\n",
    "df.isnull().sum()"
   ]
  },
  {
   "cell_type": "code",
   "execution_count": 15,
   "id": "4d53bcdc",
   "metadata": {},
   "outputs": [
    {
     "name": "stdout",
     "output_type": "stream",
     "text": [
      "<class 'pandas.core.frame.DataFrame'>\n",
      "RangeIndex: 52583 entries, 0 to 52582\n",
      "Data columns (total 9 columns):\n",
      " #   Column                       Non-Null Count  Dtype  \n",
      "---  ------                       --------------  -----  \n",
      " 0   S_no                         52583 non-null  int64  \n",
      " 1   Temperature                  52583 non-null  float64\n",
      " 2   Humidity                     52583 non-null  float64\n",
      " 3   Wind_Speed                   52583 non-null  float64\n",
      " 4   General_Diffuse_Flows        52583 non-null  float64\n",
      " 5   Diffuse_Flows                52583 non-null  float64\n",
      " 6   Air_Quality_Index_(PM)       52583 non-null  float64\n",
      " 7   Cloudiness                   52583 non-null  int64  \n",
      " 8   Power_Consumption_in_A_Zone  52583 non-null  float64\n",
      "dtypes: float64(7), int64(2)\n",
      "memory usage: 3.6 MB\n"
     ]
    }
   ],
   "source": [
    "df.info()"
   ]
  },
  {
   "cell_type": "code",
   "execution_count": 16,
   "id": "410c790c",
   "metadata": {},
   "outputs": [],
   "source": [
    "# Detecting and Handling Outliers using IQR\n",
    "Q1 = df.quantile(0.25)\n",
    "Q3 = df.quantile(0.75)\n",
    "IQR = Q3 - Q1"
   ]
  },
  {
   "cell_type": "code",
   "execution_count": 17,
   "id": "22a35fcc",
   "metadata": {},
   "outputs": [],
   "source": [
    "# Filtering extreme outliers (1.5*IQR rule)\n",
    "df = df[~((df < (Q1 - 1.5 * IQR)) | (df > (Q3 + 1.5 * IQR))).any(axis=1)]"
   ]
  },
  {
   "cell_type": "code",
   "execution_count": 18,
   "id": "44435d7d",
   "metadata": {},
   "outputs": [
    {
     "name": "stdout",
     "output_type": "stream",
     "text": [
      "<class 'pandas.core.frame.DataFrame'>\n",
      "Index: 45036 entries, 396 to 52582\n",
      "Data columns (total 9 columns):\n",
      " #   Column                       Non-Null Count  Dtype  \n",
      "---  ------                       --------------  -----  \n",
      " 0   S_no                         45036 non-null  int64  \n",
      " 1   Temperature                  45036 non-null  float64\n",
      " 2   Humidity                     45036 non-null  float64\n",
      " 3   Wind_Speed                   45036 non-null  float64\n",
      " 4   General_Diffuse_Flows        45036 non-null  float64\n",
      " 5   Diffuse_Flows                45036 non-null  float64\n",
      " 6   Air_Quality_Index_(PM)       45036 non-null  float64\n",
      " 7   Cloudiness                   45036 non-null  int64  \n",
      " 8   Power_Consumption_in_A_Zone  45036 non-null  float64\n",
      "dtypes: float64(7), int64(2)\n",
      "memory usage: 3.4 MB\n"
     ]
    }
   ],
   "source": [
    "df.info()"
   ]
  },
  {
   "cell_type": "code",
   "execution_count": 19,
   "id": "a8cb08b1",
   "metadata": {},
   "outputs": [
    {
     "data": {
      "image/png": "[encoded data removed]",
      "text/plain": [
       "<Figure size 1000x600 with 2 Axes>"
      ]
     },
     "metadata": {},
     "output_type": "display_data"
    }
   ],
   "source": [
    "# Exploratory Data Analysis (EDA)\n",
    "plt.figure(figsize=(10, 6))\n",
    "sns.heatmap(df.corr(), annot=True, cmap='coolwarm', fmt='.2f')\n",
    "plt.title(\"Feature Correlation Matrix\")\n",
    "plt.show()"
   ]
  },
  {
   "cell_type": "code",
   "execution_count": 20,
   "id": "c3b8e892",
   "metadata": {},
   "outputs": [
    {
     "data": {
      "image/png": "[encoded data removed]",
      "text/plain": [
       "<Figure size 800x500 with 1 Axes>"
      ]
     },
     "metadata": {},
     "output_type": "display_data"
    }
   ],
   "source": [
    "# Distribution of target variable\n",
    "plt.figure(figsize=(8, 5))\n",
    "sns.histplot(df['Power_Consumption_in_A_Zone'], kde=True, bins=30)\n",
    "plt.title(\"Distribution of Power Consumption\")\n",
    "plt.show()"
   ]
  },
  {
   "cell_type": "markdown",
   "id": "88c1efc3",
   "metadata": {},
   "source": [
    "# Feature Engineering"
   ]
  },
  {
   "cell_type": "code",
   "execution_count": 21,
   "id": "33ed8203",
   "metadata": {},
   "outputs": [],
   "source": [
    "from sklearn.model_selection import train_test_split\n",
    "from sklearn.preprocessing import StandardScaler\n",
    "from sklearn.ensemble import RandomForestRegressor\n",
    "from sklearn.metrics import mean_absolute_error, mean_squared_error, r2_score"
   ]
  },
  {
   "cell_type": "code",
   "execution_count": 22,
   "id": "a4f2324c",
   "metadata": {},
   "outputs": [
    {
     "data": {
      "text/plain": [
       "Index(['S_no', 'Temperature', 'Humidity', 'Wind_Speed',\n",
       "       'General_Diffuse_Flows', 'Diffuse_Flows', 'Air_Quality_Index_(PM)',\n",
       "       'Cloudiness', 'Power_Consumption_in_A_Zone'],\n",
       "      dtype='object')"
      ]
     },
     "execution_count": 22,
     "metadata": {},
     "output_type": "execute_result"
    }
   ],
   "source": [
    "df.columns"
   ]
  },
  {
   "cell_type": "code",
   "execution_count": 23,
   "id": "0c366005",
   "metadata": {},
   "outputs": [],
   "source": [
    "# Feature selection (removing serial number column)\n",
    "X = df.drop(columns=[\"S_no\", \"Power_Consumption_in_A_Zone\"])\n",
    "y = df[\"Power_Consumption_in_A_Zone\"]"
   ]
  },
  {
   "cell_type": "code",
   "execution_count": 24,
   "id": "b5403a06",
   "metadata": {},
   "outputs": [
    {
     "data": {
      "text/html": [
       "<div>\n",
       "<style scoped>\n",
       "    .dataframe tbody tr th:only-of-type {\n",
       "        vertical-align: middle;\n",
       "    }\n",
       "\n",
       "    .dataframe tbody tr th {\n",
       "        vertical-align: top;\n",
       "    }\n",
       "\n",
       "    .dataframe thead th {\n",
       "        text-align: right;\n",
       "    }\n",
       "</style>\n",
       "<table border=\"1\" class=\"dataframe\">\n",
       "  <thead>\n",
       "    <tr style=\"text-align: right;\">\n",
       "      <th></th>\n",
       "      <th>Temperature</th>\n",
       "      <th>Humidity</th>\n",
       "      <th>Wind_Speed</th>\n",
       "      <th>General_Diffuse_Flows</th>\n",
       "      <th>Diffuse_Flows</th>\n",
       "      <th>Air_Quality_Index_(PM)</th>\n",
       "      <th>Cloudiness</th>\n",
       "    </tr>\n",
       "  </thead>\n",
       "  <tbody>\n",
       "    <tr>\n",
       "      <th>396</th>\n",
       "      <td>18.827863</td>\n",
       "      <td>69.56</td>\n",
       "      <td>0.075</td>\n",
       "      <td>182.964247</td>\n",
       "      <td>11.930</td>\n",
       "      <td>157.0</td>\n",
       "      <td>0</td>\n",
       "    </tr>\n",
       "    <tr>\n",
       "      <th>397</th>\n",
       "      <td>18.827863</td>\n",
       "      <td>70.90</td>\n",
       "      <td>0.076</td>\n",
       "      <td>182.964247</td>\n",
       "      <td>6.887</td>\n",
       "      <td>151.0</td>\n",
       "      <td>0</td>\n",
       "    </tr>\n",
       "    <tr>\n",
       "      <th>398</th>\n",
       "      <td>18.827863</td>\n",
       "      <td>72.10</td>\n",
       "      <td>0.076</td>\n",
       "      <td>182.964247</td>\n",
       "      <td>3.349</td>\n",
       "      <td>151.0</td>\n",
       "      <td>0</td>\n",
       "    </tr>\n",
       "    <tr>\n",
       "      <th>399</th>\n",
       "      <td>18.827863</td>\n",
       "      <td>73.00</td>\n",
       "      <td>0.074</td>\n",
       "      <td>182.964247</td>\n",
       "      <td>1.087</td>\n",
       "      <td>158.0</td>\n",
       "      <td>0</td>\n",
       "    </tr>\n",
       "    <tr>\n",
       "      <th>400</th>\n",
       "      <td>18.827863</td>\n",
       "      <td>73.70</td>\n",
       "      <td>0.075</td>\n",
       "      <td>182.964247</td>\n",
       "      <td>0.189</td>\n",
       "      <td>153.0</td>\n",
       "      <td>0</td>\n",
       "    </tr>\n",
       "    <tr>\n",
       "      <th>...</th>\n",
       "      <td>...</td>\n",
       "      <td>...</td>\n",
       "      <td>...</td>\n",
       "      <td>...</td>\n",
       "      <td>...</td>\n",
       "      <td>...</td>\n",
       "      <td>...</td>\n",
       "    </tr>\n",
       "    <tr>\n",
       "      <th>52578</th>\n",
       "      <td>18.827863</td>\n",
       "      <td>75.60</td>\n",
       "      <td>0.094</td>\n",
       "      <td>436.200000</td>\n",
       "      <td>38.960</td>\n",
       "      <td>157.0</td>\n",
       "      <td>0</td>\n",
       "    </tr>\n",
       "    <tr>\n",
       "      <th>52579</th>\n",
       "      <td>18.827863</td>\n",
       "      <td>73.50</td>\n",
       "      <td>0.089</td>\n",
       "      <td>451.600000</td>\n",
       "      <td>37.730</td>\n",
       "      <td>157.0</td>\n",
       "      <td>0</td>\n",
       "    </tr>\n",
       "    <tr>\n",
       "      <th>52580</th>\n",
       "      <td>18.827863</td>\n",
       "      <td>70.10</td>\n",
       "      <td>0.085</td>\n",
       "      <td>466.400000</td>\n",
       "      <td>37.490</td>\n",
       "      <td>157.0</td>\n",
       "      <td>0</td>\n",
       "    </tr>\n",
       "    <tr>\n",
       "      <th>52581</th>\n",
       "      <td>18.827863</td>\n",
       "      <td>67.75</td>\n",
       "      <td>0.086</td>\n",
       "      <td>477.000000</td>\n",
       "      <td>37.370</td>\n",
       "      <td>152.0</td>\n",
       "      <td>0</td>\n",
       "    </tr>\n",
       "    <tr>\n",
       "      <th>52582</th>\n",
       "      <td>18.827863</td>\n",
       "      <td>66.24</td>\n",
       "      <td>0.088</td>\n",
       "      <td>485.700000</td>\n",
       "      <td>36.720</td>\n",
       "      <td>155.0</td>\n",
       "      <td>0</td>\n",
       "    </tr>\n",
       "  </tbody>\n",
       "</table>\n",
       "<p>45036 rows × 7 columns</p>\n",
       "</div>"
      ],
      "text/plain": [
       "       Temperature  Humidity  Wind_Speed  General_Diffuse_Flows  \\\n",
       "396      18.827863     69.56       0.075             182.964247   \n",
       "397      18.827863     70.90       0.076             182.964247   \n",
       "398      18.827863     72.10       0.076             182.964247   \n",
       "399      18.827863     73.00       0.074             182.964247   \n",
       "400      18.827863     73.70       0.075             182.964247   \n",
       "...            ...       ...         ...                    ...   \n",
       "52578    18.827863     75.60       0.094             436.200000   \n",
       "52579    18.827863     73.50       0.089             451.600000   \n",
       "52580    18.827863     70.10       0.085             466.400000   \n",
       "52581    18.827863     67.75       0.086             477.000000   \n",
       "52582    18.827863     66.24       0.088             485.700000   \n",
       "\n",
       "       Diffuse_Flows  Air_Quality_Index_(PM)  Cloudiness  \n",
       "396           11.930                   157.0           0  \n",
       "397            6.887                   151.0           0  \n",
       "398            3.349                   151.0           0  \n",
       "399            1.087                   158.0           0  \n",
       "400            0.189                   153.0           0  \n",
       "...              ...                     ...         ...  \n",
       "52578         38.960                   157.0           0  \n",
       "52579         37.730                   157.0           0  \n",
       "52580         37.490                   157.0           0  \n",
       "52581         37.370                   152.0           0  \n",
       "52582         36.720                   155.0           0  \n",
       "\n",
       "[45036 rows x 7 columns]"
      ]
     },
     "execution_count": 24,
     "metadata": {},
     "output_type": "execute_result"
    }
   ],
   "source": [
    "X"
   ]
  },
  {
   "cell_type": "code",
   "execution_count": 25,
   "id": "ce4e437f",
   "metadata": {},
   "outputs": [
    {
     "data": {
      "text/plain": [
       "396      27209.72644\n",
       "397      27300.91185\n",
       "398      27257.14286\n",
       "399      27279.02736\n",
       "400      27235.25836\n",
       "            ...     \n",
       "52578    34444.55696\n",
       "52579    34438.48101\n",
       "52580    33873.41772\n",
       "52581    33988.86076\n",
       "52582    34158.98734\n",
       "Name: Power_Consumption_in_A_Zone, Length: 45036, dtype: float64"
      ]
     },
     "execution_count": 25,
     "metadata": {},
     "output_type": "execute_result"
    }
   ],
   "source": [
    "y"
   ]
  },
  {
   "cell_type": "code",
   "execution_count": 26,
   "id": "8a94619f",
   "metadata": {},
   "outputs": [],
   "source": [
    "# Scaling features\n",
    "scaler = StandardScaler()\n",
    "X_scaled = scaler.fit_transform(X)"
   ]
  },
  {
   "cell_type": "code",
   "execution_count": 27,
   "id": "0d909a0f",
   "metadata": {},
   "outputs": [],
   "source": [
    "# Train-test split\n",
    "X_train, X_test, y_train, y_test = train_test_split(X_scaled, y, test_size=0.2, random_state=42)"
   ]
  },
  {
   "cell_type": "code",
   "execution_count": 28,
   "id": "c6298d7c",
   "metadata": {},
   "outputs": [
    {
     "data": {
      "text/plain": [
       "(45036, 7)"
      ]
     },
     "execution_count": 28,
     "metadata": {},
     "output_type": "execute_result"
    }
   ],
   "source": [
    "X.shape"
   ]
  },
  {
   "cell_type": "code",
   "execution_count": 29,
   "id": "a955eba0",
   "metadata": {},
   "outputs": [
    {
     "data": {
      "text/plain": [
       "(36028, 7)"
      ]
     },
     "execution_count": 29,
     "metadata": {},
     "output_type": "execute_result"
    }
   ],
   "source": [
    "X_train.shape"
   ]
  },
  {
   "cell_type": "code",
   "execution_count": 30,
   "id": "96d233ac",
   "metadata": {},
   "outputs": [
    {
     "data": {
      "text/plain": [
       "(9008, 7)"
      ]
     },
     "execution_count": 30,
     "metadata": {},
     "output_type": "execute_result"
    }
   ],
   "source": [
    "X_test.shape"
   ]
  },
  {
   "cell_type": "code",
   "execution_count": 31,
   "id": "87072cf1",
   "metadata": {},
   "outputs": [
    {
     "data": {
      "text/html": [
       "<style>#sk-container-id-1 {color: black;}#sk-container-id-1 pre{padding: 0;}#sk-container-id-1 div.sk-toggleable {background-color: white;}#sk-container-id-1 label.sk-toggleable__label {cursor: pointer;display: block;width: 100%;margin-bottom: 0;padding: 0.3em;box-sizing: border-box;text-align: center;}#sk-container-id-1 label.sk-toggleable__label-arrow:before {content: \"▸\";float: left;margin-right: 0.25em;color: #696969;}#sk-container-id-1 label.sk-toggleable__label-arrow:hover:before {color: black;}#sk-container-id-1 div.sk-estimator:hover label.sk-toggleable__label-arrow:before {color: black;}#sk-container-id-1 div.sk-toggleable__content {max-height: 0;max-width: 0;overflow: hidden;text-align: left;background-color: #f0f8ff;}#sk-container-id-1 div.sk-toggleable__content pre {margin: 0.2em;color: black;border-radius: 0.25em;background-color: #f0f8ff;}#sk-container-id-1 input.sk-toggleable__control:checked~div.sk-toggleable__content {max-height: 200px;max-width: 100%;overflow: auto;}#sk-container-id-1 input.sk-toggleable__control:checked~label.sk-toggleable__label-arrow:before {content: \"▾\";}#sk-container-id-1 div.sk-estimator input.sk-toggleable__control:checked~label.sk-toggleable__label {background-color: #d4ebff;}#sk-container-id-1 div.sk-label input.sk-toggleable__control:checked~label.sk-toggleable__label {background-color: #d4ebff;}#sk-container-id-1 input.sk-hidden--visually {border: 0;clip: rect(1px 1px 1px 1px);clip: rect(1px, 1px, 1px, 1px);height: 1px;margin: -1px;overflow: hidden;padding: 0;position: absolute;width: 1px;}#sk-container-id-1 div.sk-estimator {font-family: monospace;background-color: #f0f8ff;border: 1px dotted black;border-radius: 0.25em;box-sizing: border-box;margin-bottom: 0.5em;}#sk-container-id-1 div.sk-estimator:hover {background-color: #d4ebff;}#sk-container-id-1 div.sk-parallel-item::after {content: \"\";width: 100%;border-bottom: 1px solid gray;flex-grow: 1;}#sk-container-id-1 div.sk-label:hover label.sk-toggleable__label {background-color: #d4ebff;}#sk-container-id-1 div.sk-serial::before {content: \"\";position: absolute;border-left: 1px solid gray;box-sizing: border-box;top: 0;bottom: 0;left: 50%;z-index: 0;}#sk-container-id-1 div.sk-serial {display: flex;flex-direction: column;align-items: center;background-color: white;padding-right: 0.2em;padding-left: 0.2em;position: relative;}#sk-container-id-1 div.sk-item {position: relative;z-index: 1;}#sk-container-id-1 div.sk-parallel {display: flex;align-items: stretch;justify-content: center;background-color: white;position: relative;}#sk-container-id-1 div.sk-item::before, #sk-container-id-1 div.sk-parallel-item::before {content: \"\";position: absolute;border-left: 1px solid gray;box-sizing: border-box;top: 0;bottom: 0;left: 50%;z-index: -1;}#sk-container-id-1 div.sk-parallel-item {display: flex;flex-direction: column;z-index: 1;position: relative;background-color: white;}#sk-container-id-1 div.sk-parallel-item:first-child::after {align-self: flex-end;width: 50%;}#sk-container-id-1 div.sk-parallel-item:last-child::after {align-self: flex-start;width: 50%;}#sk-container-id-1 div.sk-parallel-item:only-child::after {width: 0;}#sk-container-id-1 div.sk-dashed-wrapped {border: 1px dashed gray;margin: 0 0.4em 0.5em 0.4em;box-sizing: border-box;padding-bottom: 0.4em;background-color: white;}#sk-container-id-1 div.sk-label label {font-family: monospace;font-weight: bold;display: inline-block;line-height: 1.2em;}#sk-container-id-1 div.sk-label-container {text-align: center;}#sk-container-id-1 div.sk-container {/* jupyter's `normalize.less` sets `[hidden] { display: none; }` but bootstrap.min.css set `[hidden] { display: none !important; }` so we also need the `!important` here to be able to override the default hidden behavior on the sphinx rendered scikit-learn.org. See: https://github.com/scikit-learn/scikit-learn/issues/21755 */display: inline-block !important;position: relative;}#sk-container-id-1 div.sk-text-repr-fallback {display: none;}</style><div id=\"sk-container-id-1\" class=\"sk-top-container\"><div class=\"sk-text-repr-fallback\"><pre>RandomForestRegressor(random_state=42)</pre><b>In a Jupyter environment, please rerun this cell to show the HTML representation or trust the notebook. <br />On GitHub, the HTML representation is unable to render, please try loading this page with nbviewer.org.</b></div><div class=\"sk-container\" hidden><div class=\"sk-item\"><div class=\"sk-estimator sk-toggleable\"><input class=\"sk-toggleable__control sk-hidden--visually\" id=\"sk-estimator-id-1\" type=\"checkbox\" checked><label for=\"sk-estimator-id-1\" class=\"sk-toggleable__label sk-toggleable__label-arrow\">RandomForestRegressor</label><div class=\"sk-toggleable__content\"><pre>RandomForestRegressor(random_state=42)</pre></div></div></div></div></div>"
      ],
      "text/plain": [
       "RandomForestRegressor(random_state=42)"
      ]
     },
     "execution_count": 31,
     "metadata": {},
     "output_type": "execute_result"
    }
   ],
   "source": [
    "# Model training using Random Forest Regressor\n",
    "model = RandomForestRegressor(n_estimators=100, random_state=42)\n",
    "model.fit(X_train, y_train)"
   ]
  },
  {
   "cell_type": "code",
   "execution_count": 32,
   "id": "0d932adc",
   "metadata": {},
   "outputs": [],
   "source": [
    "# Predictions\n",
    "y_pred = model.predict(X_test)"
   ]
  },
  {
   "cell_type": "code",
   "execution_count": 33,
   "id": "ec4f3adf",
   "metadata": {},
   "outputs": [],
   "source": [
    "# Evaluation\n",
    "mae = mean_absolute_error(y_test, y_pred)\n",
    "mse = mean_squared_error(y_test, y_pred)\n",
    "rmse = np.sqrt(mse)\n",
    "r2 = r2_score(y_test, y_pred)"
   ]
  },
  {
   "cell_type": "code",
   "execution_count": 34,
   "id": "13eeab39",
   "metadata": {},
   "outputs": [],
   "source": [
    "# Model evaluation\n",
    "mse = mean_squared_error(y_test, y_pred)\n",
    "r2 = r2_score(y_test, y_pred)"
   ]
  },
  {
   "cell_type": "code",
   "execution_count": 35,
   "id": "11722f98",
   "metadata": {},
   "outputs": [
    {
     "name": "stdout",
     "output_type": "stream",
     "text": [
      "Model Performance:\n",
      "Mean Squared Error: 25987191.114683907\n",
      "R-Squared Score: 0.6186993467669248\n"
     ]
    }
   ],
   "source": [
    "print(f\"Model Performance:\\nMean Squared Error: {mse}\\nR-Squared Score: {r2}\")"
   ]
  },
  {
   "cell_type": "code",
   "execution_count": null,
   "id": "acc526d3",
   "metadata": {},
   "outputs": [],
   "source": []
  }
 ],
 "metadata": {
  "kernelspec": {
   "display_name": "Python 3 (ipykernel)",
   "language": "python",
   "name": "python3"
  },
  "language_info": {
   "codemirror_mode": {
    "name": "ipython",
    "version": 3
   },
   "file_extension": ".py",
   "mimetype": "text/x-python",
   "name": "python",
   "nbconvert_exporter": "python",
   "pygments_lexer": "ipython3",
   "version": "3.11.5"
  }
 },
 "nbformat": 4,
 "nbformat_minor": 5
}
